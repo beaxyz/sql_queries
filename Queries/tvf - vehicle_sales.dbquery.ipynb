{
 "cells": [
  {
   "cell_type": "code",
   "execution_count": 0,
   "metadata": {
    "application/vnd.databricks.v1+cell": {
     "cellMetadata": {},
     "inputWidgets": {},
     "nuid": "4e959ef0-ed8a-447f-a92b-7616f037befa",
     "showTitle": false,
     "tableResultSettingsMap": {},
     "title": ""
    }
   },
   "outputs": [],
   "source": [
    "CREATE OR REPLACE FUNCTION vehicle_colours (\n",
    ")\n",
    "RETURNS TABLE\n",
    "COMMENT \"Addresses questions such as what is the top 5 colours of vehicles?\"\n",
    "RETURN\n",
    "SELECT\n",
    "  color,\n",
    "  COUNT(*) AS VehiclesSold\n",
    "FROM\n",
    "  beatrice_liew.vehicle_sales.car_prices\n",
    "GROUP BY\n",
    "  color\n",
    "ORDER BY\n",
    "  VehiclesSold DESC\n",
    "LIMIT\n",
    "  5;"
   ]
  }
 ],
 "metadata": {
  "application/vnd.databricks.v1+notebook": {
   "computePreferences": null,
   "dashboards": [],
   "environmentMetadata": null,
   "language": "sql",
   "notebookMetadata": {
    "sqlQueryOptions": {
     "applyAutoLimit": true,
     "catalog": "beatrice_liew",
     "schema": "vehicle_sales"
    }
   },
   "notebookName": "tvf - vehicle_sales.dbquery.ipynb",
   "widgets": {}
  },
  "language_info": {
   "name": "sql"
  }
 },
 "nbformat": 4,
 "nbformat_minor": 0
}
